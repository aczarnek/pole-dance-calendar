{
 "cells": [
  {
   "cell_type": "code",
   "execution_count": 621,
   "metadata": {
    "collapsed": true
   },
   "outputs": [],
   "source": [
    "token='EAACEdEose0cBAJmrjzcyACspR9qUKh0euZCIXmrmUXv4yi0wuowwZAMWfcE0pmAllF1EQJPF8xYzZBDrZBEeKQPmjFndudDiZC9c3QHNSYiE597EC6gOhOzNmZBY7iEysx3PnOYZAjednyclz2xJesrrl3xUARLbbfLgiYxHmmPC5eZALFDE2CCPBWwKzfn9fcJWKIfPEIfGWQZDZD'"
   ]
  },
  {
   "cell_type": "code",
   "execution_count": 636,
   "metadata": {
    "collapsed": false,
    "scrolled": true
   },
   "outputs": [],
   "source": [
    "import requests\n",
    "import re\n",
    "group_feed='https://graph.facebook.com/v2.10/169553646495114/feed?limit=200&access_token='+token\n",
    "feed_api=requests.get(group_feed)\n",
    "data=feed_api.json()['data']\n",
    "\n",
    "#Funtion which returns list of events ID\n",
    "def list_of_events_id():\n",
    "    events_id=[]\n",
    "    for message in data:\n",
    "        try:  \n",
    "            urls = re.findall('www.facebook.com/events/(?:[0-9])+', message['message'])\n",
    "            urls_split =urls[0].split('www.facebook.com/events/')\n",
    "            event_id=urls_split[1]\n",
    "            events_id.append(event_id)\n",
    "        except:\n",
    "            pass\n",
    "    #print(events_id)\n",
    "    \n",
    "    create_url(events_id)\n",
    "    \n",
    "    \n",
    "list_of_events_id()\n"
   ]
  },
  {
   "cell_type": "code",
   "execution_count": 631,
   "metadata": {
    "collapsed": false
   },
   "outputs": [],
   "source": [
    "#Function which creates url addresses: url with information about the event, url with information about the owner (organizer)\n",
    "def create_url(events_id):\n",
    "    urls_list=[]\n",
    "    urls_owner_list=[]\n",
    "    for event_id in events_id:\n",
    "        try:\n",
    "            #parts of url with information about the event\n",
    "            url_first='https://graph.facebook.com/v2.10/'\n",
    "            url_second=event_id\n",
    "            url_third='/? &access_token='+token\n",
    "            url=url_first+url_second+url_third\n",
    "            urls_list.append(url)\n",
    "            \n",
    "            #parts of url with information about the owner\n",
    "            url_owner_api='?fields=owner&access_token=' +token\n",
    "            url_owner=url_first+url_second+url_owner_api \n",
    "            urls_owner_list.append(url_owner)      \n",
    "   \n",
    "        except:\n",
    "            print('bug in url')\n",
    "    \n",
    "    create_database_record1(urls_list)\n",
    "    create_database_record2(urls_owner_list)\n"
   ]
  },
  {
   "cell_type": "code",
   "execution_count": 632,
   "metadata": {
    "collapsed": false
   },
   "outputs": [],
   "source": [
    "#Funtion which creates tuple to database to Event table\n",
    "def create_database_record1(urls_list):\n",
    "    list_json_data=[]\n",
    "    for url in urls_list:\n",
    "        \n",
    "        try:\n",
    "            get_data=requests.get(url)\n",
    "            json_data=get_data.json()\n",
    "            #print(json_data.keys())\n",
    "            \n",
    "            list_json_data.append(json_data['place'])\n",
    "            \n",
    "            event_id='NULL'\n",
    "            name=str(json_data['name'])\n",
    "            event_type=1\n",
    "            start_time=str(json_data['start_time'])\n",
    "            description=str(json_data['description'])\n",
    "            \n",
    "            try:\n",
    "                end_time=str(json_data['end_time'])\n",
    "            except:\n",
    "                end_time=str(json_data['start_time'])\n",
    "            \n",
    "            record=list()\n",
    "            record.append(event_id)\n",
    "            record.append(name)\n",
    "            record.append(event_type)\n",
    "            record.append(start_time)\n",
    "            record.append(end_time)\n",
    "            record.append(description)\n",
    "         \n",
    "            print(tuple(record))       \n",
    "            \n",
    "        except:\n",
    "            print('event out-of-date')\n",
    "            \n",
    "    #print(list_json_data)\n",
    "    \n",
    "    place_record(list_json_data)\n",
    "    "
   ]
  },
  {
   "cell_type": "code",
   "execution_count": 634,
   "metadata": {
    "collapsed": false
   },
   "outputs": [],
   "source": [
    "#Function which creates list of owners(organizers)\n",
    "def create_database_record2(urls_owner_list):\n",
    "    owners=[]\n",
    "    for url in urls_owner_list:\n",
    "        try:\n",
    "            get_owner=requests.get(url)\n",
    "            json_owner=get_owner.json()\n",
    "            owner=json_owner['owner']['name']\n",
    "            owners.append(owner)\n",
    "            \n",
    "        except:\n",
    "            owners.append('missing owner')\n",
    "            \n",
    "    database_record(owners)\n",
    "    \n",
    "        \n",
    "    \n",
    "    "
   ]
  },
  {
   "cell_type": "code",
   "execution_count": 633,
   "metadata": {
    "collapsed": true
   },
   "outputs": [],
   "source": [
    "#Function which print owners(organizers)\n",
    "def database_record(owners):  \n",
    "    print(owners)\n",
    "\n",
    "    "
   ]
  },
  {
   "cell_type": "code",
   "execution_count": 627,
   "metadata": {
    "collapsed": false
   },
   "outputs": [],
   "source": [
    "#Function which creates tuple to database to Localization table\n",
    "def place_record(json_data):\n",
    "    \n",
    "   \n",
    "        for place in json_data:\n",
    "            try:\n",
    "\n",
    "                place_id='NULL'\n",
    "                city=str(place['location']['city'])         \n",
    "                addressLine1=str(place['location']['street'])\n",
    "                addressLine2=str(place['location']['zip'])         \n",
    "                latitude=str(place['location']['latitude'])\n",
    "                longitude=str(place['location']['longitude'])\n",
    "\n",
    "                place=list()\n",
    "                place.append(place_id)\n",
    "                place.append(city)\n",
    "                place.append(addressLine1)\n",
    "                place.append(addressLine2)\n",
    "                place.append(latitude)\n",
    "                place.append(longitude)\n",
    "\n",
    "                print(tuple(place))\n",
    "            except:\n",
    "                print('missing localization')\n",
    "    "
   ]
  },
  {
   "cell_type": "code",
   "execution_count": null,
   "metadata": {
    "collapsed": false
   },
   "outputs": [],
   "source": []
  },
  {
   "cell_type": "code",
   "execution_count": null,
   "metadata": {
    "collapsed": false
   },
   "outputs": [],
   "source": []
  },
  {
   "cell_type": "code",
   "execution_count": 518,
   "metadata": {
    "collapsed": false
   },
   "outputs": [
    {
     "name": "stdout",
     "output_type": "stream",
     "text": [
      "['ggg', 'aaa', 'ppp', 'ccc']\n"
     ]
    }
   ],
   "source": [
    "#test insert\n",
    "z=['ggg','ppp','ccc']\n",
    "x='aaa'\n",
    "z.insert(1,x)\n",
    "print(z)"
   ]
  },
  {
   "cell_type": "code",
   "execution_count": null,
   "metadata": {
    "collapsed": true
   },
   "outputs": [],
   "source": []
  }
 ],
 "metadata": {
  "kernelspec": {
   "display_name": "Python 3",
   "language": "python",
   "name": "python3"
  },
  "language_info": {
   "codemirror_mode": {
    "name": "ipython",
    "version": 3
   },
   "file_extension": ".py",
   "mimetype": "text/x-python",
   "name": "python",
   "nbconvert_exporter": "python",
   "pygments_lexer": "ipython3",
   "version": "3.6.0"
  }
 },
 "nbformat": 4,
 "nbformat_minor": 2
}
